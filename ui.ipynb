{
 "cells": [
  {
   "cell_type": "code",
   "execution_count": null,
   "metadata": {},
   "outputs": [],
   "source": [
    "from sepal_ui import widgetFactory as wf\n",
    "from sepal_ui import widgetBinding as wb"
   ]
  },
  {
   "cell_type": "code",
   "execution_count": null,
   "metadata": {},
   "outputs": [],
   "source": [
    "#create an appBar \n",
    "mspa_appBar, mspa_toggleButton = wf.AppBar('MSPA analysis')\n",
    "\n",
    "#create a footer \n",
    "mspa_footer = wf.Footer()"
   ]
  },
  {
   "cell_type": "code",
   "execution_count": null,
   "metadata": {},
   "outputs": [],
   "source": [
    "%run 'file_ui.ipynb'\n",
    "%run 'bands_ui.ipynb'\n",
    "%run 'mspa_ui.ipynb'\n",
    "\n",
    "mspa_content = [\n",
    "    fi_tile,\n",
    "    bi_tile,\n",
    "    mp_widget,\n",
    "    mp_results\n",
    "]"
   ]
  },
  {
   "cell_type": "code",
   "execution_count": null,
   "metadata": {},
   "outputs": [],
   "source": [
    "#select the tile to display first \n",
    "select = 'input_widget' #id of the tile you want to display\n",
    "wf.hideCards(select, mspa_content)"
   ]
  },
  {
   "cell_type": "code",
   "execution_count": null,
   "metadata": {},
   "outputs": [],
   "source": [
    "#create a drawer \n",
    "item_input = wf.DrawerItem('Select inputs', 'mdi-cogs', card=\"input_widget\")\n",
    "item_result = wf.DrawerItem('Result', 'mdi-chart-bar', card=\"result_widget\")\n",
    "item_about = wf.DrawerItem('About', 'mdi-help-circle', card=\"about_widget\")\n",
    "\n",
    "code_link = 'https://github.com/12rambau/mspa-analysis'\n",
    "wiki_link = 'https://github.com/12rambau/mspa-analysis'\n",
    "issue = 'https://github.com/12rambau/mspa-analysis/issues/new'\n",
    "\n",
    "items = [\n",
    "    item_input, \n",
    "    item_result,\n",
    "    item_about\n",
    "]\n",
    "mspa_drawer = wf.NavDrawer(items, code = code_link, wiki = wiki_link, issue = issue)"
   ]
  },
  {
   "cell_type": "code",
   "execution_count": null,
   "metadata": {},
   "outputs": [],
   "source": [
    "#build the app \n",
    "mspa_app = wf.App(\n",
    "    tiles=mspa_content, \n",
    "    appBar=mspa_appBar, \n",
    "    footer=mspa_footer, \n",
    "    navDrawer=mspa_drawer\n",
    ")[0]"
   ]
  },
  {
   "cell_type": "code",
   "execution_count": null,
   "metadata": {},
   "outputs": [],
   "source": [
    "#bind the components together\n",
    "wb.displayDrawer(mspa_drawer, mspa_toggleButton) #drawer \n",
    "for item in items:                             #drawer clickable buttons\n",
    "    wb.display_tile(item, mspa_content)"
   ]
  },
  {
   "cell_type": "code",
   "execution_count": null,
   "metadata": {},
   "outputs": [],
   "source": [
    "#display the app\n",
    "mspa_app"
   ]
  }
 ],
 "metadata": {
  "kernelspec": {
   "display_name": "Python 3",
   "language": "python",
   "name": "python3"
  },
  "language_info": {
   "codemirror_mode": {
    "name": "ipython",
    "version": 3
   },
   "file_extension": ".py",
   "mimetype": "text/x-python",
   "name": "python",
   "nbconvert_exporter": "python",
   "pygments_lexer": "ipython3",
   "version": "3.6.9"
  }
 },
 "nbformat": 4,
 "nbformat_minor": 4
}
