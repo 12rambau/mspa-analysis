{
 "cells": [
  {
   "cell_type": "code",
   "execution_count": null,
   "metadata": {},
   "outputs": [],
   "source": [
    "%%capture\n",
    "import sys\n",
    "!{sys.executable} -m pip install 'sepal-ui>=0.7.2-beta'"
   ]
  },
  {
   "cell_type": "code",
   "execution_count": null,
   "metadata": {},
   "outputs": [],
   "source": [
    "from sepal_ui import sepalwidgets as sw"
   ]
  },
  {
   "cell_type": "code",
   "execution_count": null,
   "metadata": {},
   "outputs": [],
   "source": [
    "#create an appBar \n",
    "mspa_appBar = sw.AppBar('MSPA analysis')"
   ]
  },
  {
   "cell_type": "code",
   "execution_count": null,
   "metadata": {},
   "outputs": [],
   "source": [
    "#create a footer \n",
    "mspa_footer = sw.Footer()"
   ]
  },
  {
   "cell_type": "code",
   "execution_count": null,
   "metadata": {},
   "outputs": [],
   "source": [
    "%run 'file_ui.ipynb'\n",
    "%run 'bands_ui.ipynb'\n",
    "%run 'mspa_ui.ipynb'\n",
    "%run 'about_ui.ipynb'\n",
    "\n",
    "mspa_content = [\n",
    "    fi_tile,\n",
    "    bi_tile,\n",
    "    mp_widget,\n",
    "    mp_results,\n",
    "    ma_about,\n",
    "    ma_disclaimer\n",
    "]"
   ]
  },
  {
   "cell_type": "code",
   "execution_count": null,
   "metadata": {},
   "outputs": [],
   "source": [
    "#create a drawer \n",
    "item_input = sw.DrawerItem('Select inputs', 'mdi-cogs', card=\"input_widget\").display_tile(mspa_content)\n",
    "item_result = sw.DrawerItem('Result', 'mdi-chart-bar', card=\"result_widget\").display_tile(mspa_content)\n",
    "item_about = sw.DrawerItem('About', 'mdi-help-circle', card=\"about_widget\").display_tile(mspa_content)\n",
    "\n",
    "code_link = 'https://github.com/12rambau/mspa-analysis'\n",
    "wiki_link = 'https://github.com/12rambau/mspa-analysis'\n",
    "issue = 'https://github.com/12rambau/mspa-analysis/issues/new'\n",
    "\n",
    "items = [\n",
    "    item_input, \n",
    "    item_result,\n",
    "    item_about\n",
    "]\n",
    "mspa_drawer = sw.NavDrawer(items, code = code_link, wiki = wiki_link, issue = issue).display_drawer(mspa_appBar.toggle_button)"
   ]
  },
  {
   "cell_type": "code",
   "execution_count": null,
   "metadata": {},
   "outputs": [],
   "source": [
    "#build the app \n",
    "mspa_app = sw.App(tiles=mspa_content, appBar=mspa_appBar, footer=mspa_footer, navDrawer=mspa_drawer).show_tile('input_widget')"
   ]
  },
  {
   "cell_type": "code",
   "execution_count": null,
   "metadata": {},
   "outputs": [],
   "source": [
    "#display the app\n",
    "mspa_app"
   ]
  }
 ],
 "metadata": {
  "kernelspec": {
   "display_name": "Python 3",
   "language": "python",
   "name": "python3"
  },
  "language_info": {
   "codemirror_mode": {
    "name": "ipython",
    "version": 3
   },
   "file_extension": ".py",
   "mimetype": "text/x-python",
   "name": "python",
   "nbconvert_exporter": "python",
   "pygments_lexer": "ipython3",
   "version": "3.6.9"
  }
 },
 "nbformat": 4,
 "nbformat_minor": 4
}
