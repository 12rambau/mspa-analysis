{
 "cells": [
  {
   "cell_type": "code",
   "execution_count": null,
   "metadata": {},
   "outputs": [],
   "source": [
    "from sepal_ui import widgetFactory as wf\n",
    "from sepal_ui import widgetBinding as wb\n",
    "\n",
    "import ipyvuetify as v\n",
    "from utils import messages as ms"
   ]
  },
  {
   "cell_type": "code",
   "execution_count": null,
   "metadata": {},
   "outputs": [],
   "source": [
    "#input and output as mutable object \n",
    "class File_input_io:\n",
    "    def __init__(self):\n",
    "        #input \n",
    "        self.file = None\n",
    "        \n",
    "        #output \n",
    "        self.values = None\n",
    "\n",
    "fi_io = File_input_io()"
   ]
  },
  {
   "cell_type": "code",
   "execution_count": null,
   "metadata": {},
   "outputs": [],
   "source": [
    "from scripts import file\n",
    "#create the output \n",
    "fi_output = wf.OutputWidget(ms.FILE_INPUT)\n",
    "\n",
    "#create the button\n",
    "fi_btn = wf.ProcessBtn(ms.FILE_SELECT)\n",
    "\n",
    "#create the only widget \n",
    "fi_select = v.Select(\n",
    "    items=file.get_tif(),\n",
    "    label='file input',\n",
    "    v_model=None\n",
    ")\n",
    "\n",
    "#bind the widget\n",
    "wb.bind(fi_select, fi_io, 'file', fi_output)\n",
    "\n",
    "#create a file selctor tile\n",
    "id_ = \"input_widget\"\n",
    "title = \"Select file\"\n",
    "\n",
    "fi_tile = wf.Tile(\n",
    "    id_,\n",
    "    title,\n",
    "    btn=fi_btn,\n",
    "    inputs=[fi_select],\n",
    "    output=fi_output\n",
    ")"
   ]
  },
  {
   "cell_type": "code",
   "execution_count": null,
   "metadata": {},
   "outputs": [],
   "source": [
    "#create an automatic process \n",
    "from scripts import run\n",
    "from sepal_ui.scripts import utils as su\n",
    "from functools import partial\n",
    "\n",
    "def process_start(widget, event, data, output):\n",
    "    \n",
    "    #toggle the loading button \n",
    "    su.toggleLoading(widget)\n",
    "    \n",
    "    #load inputs \n",
    "    file = getattr(fi_io, 'file')\n",
    "    \n",
    "    #check input \n",
    "    if not wb.checkInput(file, output, ms.NO_FILE): return su.toggleLoading(widget)\n",
    "    \n",
    "    #launch the process \n",
    "    values = list(run.validate_file(file, output))\n",
    "    setattr(fi_io, 'values', values)\n",
    "    \n",
    "    su.displayIO(output, \"the values {} have been selected\".format(values), 'success')\n",
    "    \n",
    "    #change the dropdown values (not working in debug)\n",
    "    reset_bands(values)\n",
    "    \n",
    "    #toggle the loading button \n",
    "    su.toggleLoading(widget)\n",
    "    \n",
    "    return \n",
    "\n",
    "fi_btn.on_event('click', partial(\n",
    "    process_start,\n",
    "    output = fi_output\n",
    "))"
   ]
  },
  {
   "cell_type": "code",
   "execution_count": null,
   "metadata": {},
   "outputs": [],
   "source": [
    "fi_tile"
   ]
  },
  {
   "cell_type": "code",
   "execution_count": null,
   "metadata": {},
   "outputs": [],
   "source": [
    "fi_io.file"
   ]
  },
  {
   "cell_type": "code",
   "execution_count": null,
   "metadata": {},
   "outputs": [],
   "source": [
    "fi_io.values"
   ]
  },
  {
   "cell_type": "code",
   "execution_count": null,
   "metadata": {},
   "outputs": [],
   "source": []
  }
 ],
 "metadata": {
  "kernelspec": {
   "display_name": "Python 3",
   "language": "python",
   "name": "python3"
  },
  "language_info": {
   "codemirror_mode": {
    "name": "ipython",
    "version": 3
   },
   "file_extension": ".py",
   "mimetype": "text/x-python",
   "name": "python",
   "nbconvert_exporter": "python",
   "pygments_lexer": "ipython3",
   "version": "3.6.9"
  }
 },
 "nbformat": 4,
 "nbformat_minor": 4
}
