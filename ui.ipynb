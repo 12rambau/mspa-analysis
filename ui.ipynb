{
 "cells": [
  {
   "cell_type": "code",
   "execution_count": 1,
   "metadata": {},
   "outputs": [],
   "source": [
    "%run 'file_ui.ipynb'\n",
    "%run 'bands_ui.ipynb'\n",
    "%run 'mspa_ui.ipynb'"
   ]
  },
  {
   "cell_type": "code",
   "execution_count": 2,
   "metadata": {},
   "outputs": [
    {
     "data": {
      "application/vnd.jupyter.widget-view+json": {
       "model_id": "3eb5af394bf244dd8afe1cbd3b354f0e",
       "version_major": 2,
       "version_minor": 0
      },
      "text/plain": [
       "Layout(align_center=True, children=[Card(children=[Html(children=['Select file'], tag='h2'), Flex(children=[La…"
      ]
     },
     "metadata": {},
     "output_type": "display_data"
    }
   ],
   "source": [
    "fi_tile"
   ]
  },
  {
   "cell_type": "code",
   "execution_count": 3,
   "metadata": {
    "scrolled": false
   },
   "outputs": [
    {
     "data": {
      "application/vnd.jupyter.widget-view+json": {
       "model_id": "998438b9346641af852c9bb57754f950",
       "version_major": 2,
       "version_minor": 0
      },
      "text/plain": [
       "Layout(align_center=True, children=[Card(children=[Html(children=['Select bands'], tag='h2'), Flex(children=[L…"
      ]
     },
     "metadata": {},
     "output_type": "display_data"
    }
   ],
   "source": [
    "bi_tile"
   ]
  },
  {
   "cell_type": "code",
   "execution_count": 4,
   "metadata": {},
   "outputs": [
    {
     "data": {
      "application/vnd.jupyter.widget-view+json": {
       "model_id": "8211f8dc20a54fcea574a15f02c9984c",
       "version_major": 2,
       "version_minor": 0
      },
      "text/plain": [
       "Layout(align_center=True, children=[Card(children=[Html(children=['Create fragmentation map'], tag='h2'), Flex…"
      ]
     },
     "metadata": {},
     "output_type": "display_data"
    }
   ],
   "source": [
    "mp_widget"
   ]
  },
  {
   "cell_type": "code",
   "execution_count": 5,
   "metadata": {},
   "outputs": [
    {
     "data": {
      "application/vnd.jupyter.widget-view+json": {
       "model_id": "1f30e02572a44e3ea95bd53f4627e330",
       "version_major": 2,
       "version_minor": 0
      },
      "text/plain": [
       "Layout(align_center=True, children=[Card(children=[Html(children=['Results'], tag='h2'), Flex(children=[Layout…"
      ]
     },
     "metadata": {},
     "output_type": "display_data"
    }
   ],
   "source": [
    "mp_results"
   ]
  },
  {
   "cell_type": "code",
   "execution_count": 6,
   "metadata": {},
   "outputs": [
    {
     "name": "stdout",
     "output_type": "stream",
     "text": [
      "gdal_calc.py -A /home/prambaud/gfc_wrapper_results/gfc/PU_42_merged_gfc_map.tif --co \"COMPRESS=LZW\" --outfile=/home/prambaud/mspa_results/PU_42_merged_gfc_map_bin_map.tif --calc=\"(A==0)*0+(A==1)*1+(A==2)*1+(A==3)*1+(A==4)*1+(A==5)*1+(A==6)*1+(A==7)*1+(A==8)*1+(A==9)*1+(A==10)*1+(A==11)*1+(A==12)*1+(A==13)*1+(A==14)*1+(A==15)*1+(A==16)*1+(A==17)*1+(A==18)*1+(A==19)*1+(A==30)*1+(A==40)*2+(A==50)*1+(A==51)*1\" --type=\"Byte\"\n"
     ]
    }
   ],
   "source": [
    "a = ['gdal_calc.py', '-A', '/home/prambaud/gfc_wrapper_results/gfc/PU_42_merged_gfc_map.tif', '--co', '\"COMPRESS=LZW\"', '--outfile=/home/prambaud/mspa_results/PU_42_merged_gfc_map_bin_map.tif', '--calc=\"(A==0)*0+(A==1)*1+(A==2)*1+(A==3)*1+(A==4)*1+(A==5)*1+(A==6)*1+(A==7)*1+(A==8)*1+(A==9)*1+(A==10)*1+(A==11)*1+(A==12)*1+(A==13)*1+(A==14)*1+(A==15)*1+(A==16)*1+(A==17)*1+(A==18)*1+(A==19)*1+(A==30)*1+(A==40)*2+(A==50)*1+(A==51)*1\"', '--type=\"Byte\"']\n",
    "print(' '.join(a))"
   ]
  },
  {
   "cell_type": "code",
   "execution_count": null,
   "metadata": {},
   "outputs": [],
   "source": []
  },
  {
   "cell_type": "code",
   "execution_count": null,
   "metadata": {},
   "outputs": [],
   "source": []
  }
 ],
 "metadata": {
  "kernelspec": {
   "display_name": "Python 3",
   "language": "python",
   "name": "python3"
  },
  "language_info": {
   "codemirror_mode": {
    "name": "ipython",
    "version": 3
   },
   "file_extension": ".py",
   "mimetype": "text/x-python",
   "name": "python",
   "nbconvert_exporter": "python",
   "pygments_lexer": "ipython3",
   "version": "3.6.9"
  }
 },
 "nbformat": 4,
 "nbformat_minor": 4
}
