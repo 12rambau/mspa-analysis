{
 "cells": [
  {
   "cell_type": "code",
   "execution_count": null,
   "metadata": {},
   "outputs": [],
   "source": [
    "from sepal_ui import sepalwidgets as sw\n",
    "import ipyvuetify as v\n",
    "\n",
    "from utils import messages as ms"
   ]
  },
  {
   "cell_type": "code",
   "execution_count": null,
   "metadata": {},
   "outputs": [],
   "source": [
    "#input and output as mutable object \n",
    "class File_input_io:\n",
    "    def __init__(self):\n",
    "        #input \n",
    "        self.file = None\n",
    "        \n",
    "        #output \n",
    "        self.values = None\n",
    "\n",
    "fi_io = File_input_io()"
   ]
  },
  {
   "cell_type": "code",
   "execution_count": null,
   "metadata": {},
   "outputs": [],
   "source": [
    "from scripts import file\n",
    "\n",
    "#create the output \n",
    "fi_output = sw.Alert().add_msg(ms.FILE_INPUT)\n",
    "\n",
    "#create the button\n",
    "fi_btn = sw.Btn(ms.FILE_SELECT)\n",
    "\n",
    "#create the only widget \n",
    "fi_select = sw.FileInput(['.tif', '.tiff'])\n",
    "fi_select.bind_io(fi_output, fi_io, 'file')\n",
    "\n",
    "#create a file selctor tile\n",
    "id_ = \"input_widget\"\n",
    "title = \"Select file\"\n",
    "\n",
    "fi_tile = sw.Tile(\n",
    "    id_,\n",
    "    title,\n",
    "    btn=fi_btn,\n",
    "    inputs=[fi_select],\n",
    "    output=fi_output\n",
    ")"
   ]
  },
  {
   "cell_type": "code",
   "execution_count": null,
   "metadata": {},
   "outputs": [],
   "source": [
    "#create an automatic process \n",
    "from scripts import run\n",
    "from functools import partial\n",
    "\n",
    "def process_start(widget, event, data, output):\n",
    "    \n",
    "    #toggle the loading button \n",
    "    widget.toggle_loading()\n",
    "    \n",
    "    #load inputs \n",
    "    file = getattr(fi_io, 'file')\n",
    "    \n",
    "    #check input \n",
    "    if not output.check_input(file, ms.NO_FILE): return widget.toggle_loading()\n",
    "    \n",
    "    #launch the process \n",
    "    try:\n",
    "        values = list(run.validate_file(file, output))\n",
    "        setattr(fi_io, 'values', values)\n",
    "    \n",
    "        output.add_msg(\"the values {} have been selected\".format(values), 'success')\n",
    "        \n",
    "        #change the dropdown values (not working in debug)\n",
    "        reset_bands(values)\n",
    "    \n",
    "    except Exception as e: \n",
    "        output.add_live_msg(str(e), 'error')\n",
    "    \n",
    "    #toggle the loading button \n",
    "    widget.toggle_loading()\n",
    "    \n",
    "    return \n",
    "\n",
    "fi_btn.on_event('click', partial(\n",
    "    process_start,\n",
    "    output = fi_output\n",
    "))"
   ]
  },
  {
   "cell_type": "code",
   "execution_count": null,
   "metadata": {},
   "outputs": [],
   "source": [
    "fi_tile"
   ]
  },
  {
   "cell_type": "code",
   "execution_count": null,
   "metadata": {},
   "outputs": [],
   "source": []
  }
 ],
 "metadata": {
  "kernelspec": {
   "display_name": "Python 3",
   "language": "python",
   "name": "python3"
  },
  "language_info": {
   "codemirror_mode": {
    "name": "ipython",
    "version": 3
   },
   "file_extension": ".py",
   "mimetype": "text/x-python",
   "name": "python",
   "nbconvert_exporter": "python",
   "pygments_lexer": "ipython3",
   "version": "3.6.9"
  }
 },
 "nbformat": 4,
 "nbformat_minor": 4
}
