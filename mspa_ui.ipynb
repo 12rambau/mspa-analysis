{
 "cells": [
  {
   "cell_type": "code",
   "execution_count": null,
   "metadata": {},
   "outputs": [],
   "source": [
    "from sepal_ui import widgetFactory as wf\n",
    "from sepal_ui import widgetBinding as wb\n",
    "\n",
    "import ipyvuetify as v\n",
    "from utils import messages as ms"
   ]
  },
  {
   "cell_type": "code",
   "execution_count": null,
   "metadata": {},
   "outputs": [],
   "source": [
    "#use a class to define your input and output in order to have mutable variables\n",
    "class Mspa_process_io:\n",
    "    def __init__(self):\n",
    "        #set up your inputs\n",
    "        self.foreground_connectivity = None\n",
    "        self.edge_width = None\n",
    "        self.transition_core = True\n",
    "        self.separate_feature = True\n",
    "        self.statistics = True\n",
    "        \n",
    "mp_io = Mspa_process_io()"
   ]
  },
  {
   "cell_type": "code",
   "execution_count": null,
   "metadata": {},
   "outputs": [],
   "source": [
    "#create an empty result tile that will be filled with displayable plot, map, links, text\n",
    "id_ = \"result_widget\"\n",
    "title = \"Results\"\n",
    "mp_results = wf.Tile(id_, title, inputs=[ms.MSPA_NO_RESULTS])"
   ]
  },
  {
   "cell_type": "code",
   "execution_count": null,
   "metadata": {},
   "outputs": [],
   "source": [
    "#create the output alert \n",
    "mp_output = wf.OutputWidget(ms.MSPA_MESSAGE)\n",
    "\n",
    "#create the button that start your process\n",
    "mp_btn = wf.ProcessBtn(ms.MSPA_BTN)\n",
    "\n",
    "#create the widgets following ipyvuetify requirements \n",
    "connectivity = [4, 8]\n",
    "mp_connectivity = v.Select(\n",
    "    items=connectivity, \n",
    "    label='Foreground connectivity', \n",
    "    v_model=None\n",
    ")\n",
    "mp_edge = v.Slider(\n",
    "    label= 'Edge width',\n",
    "    max=5,\n",
    "    class_=\"mt-5\", \n",
    "    thumb_label='always', \n",
    "    v_model=0\n",
    ")\n",
    "mp_transition = v.Switch(label=\"Transition Core - Loop/Bridge\", v_model=True)\n",
    "mp_feature = v.Switch(label=\"Separate internal from external features\", v_model=True)\n",
    "mp_statistics = v.Switch(label=\"Compute statistics\", v_model=True)\n",
    "\n",
    "\n",
    "mp_inputs = [\n",
    "    mp_connectivity, \n",
    "    mp_edge, \n",
    "    mp_transition, \n",
    "    mp_feature, \n",
    "    mp_statistics\n",
    "]\n",
    "\n",
    "#bind the widget to the inputs\n",
    "wb.bind(mp_connectivity, mp_io, 'foreground_connectivity', mp_output)\n",
    "wb.bind(mp_edge, mp_io, 'edge_width', mp_output)\n",
    "wb.bind(mp_transition, mp_io, 'transition_core', mp_output)\n",
    "wb.bind(mp_feature, mp_io, 'separate_feature', mp_output)\n",
    "wb.bind(mp_statistics, mp_io, 'statistics', mp_output)\n",
    "\n",
    "\n",
    "#create a process tile\n",
    "id_ = \"input_widget\"\n",
    "title = 'Create fragmentation map'\n",
    "\n",
    "mp_widget = wf.Tile(\n",
    "    id_, \n",
    "    title, \n",
    "    btn=mp_btn, \n",
    "    inputs=mp_inputs, \n",
    "    output=mp_output\n",
    ")"
   ]
  },
  {
   "cell_type": "code",
   "execution_count": null,
   "metadata": {},
   "outputs": [],
   "source": [
    "#bind the button to the process by writing a custom function\n",
    "from scripts import run\n",
    "from sepal_ui.scripts import utils\n",
    "from functools import partial\n",
    "\n",
    "def process_start(widget, event, data, output, mp_results):    \n",
    "    \n",
    "    #toggle the loading button\n",
    "    utils.toggleLoading(widget)\n",
    "\n",
    "    ###################################\n",
    "    ###          load inputs        ###\n",
    "    ###################################\n",
    "\n",
    "    bin_map = getattr(bi_io, 'bin_map')\n",
    "    \n",
    "    params = [\n",
    "        str(getattr(mp_io, 'foreground_connectivity')),\n",
    "        str(getattr(mp_io,'edge_width')),\n",
    "        str(int(getattr(mp_io, 'transition_core'))),\n",
    "        str(int(getattr(mp_io, 'separate_feature'))),\n",
    "        str(int(getattr(mp_io, 'statistics'))),\n",
    "    ]\n",
    "            \n",
    "    #check inputs \n",
    "    if not wb.checkInput(bin_map, output, ms.NO_MAP): return utils.toggleLoading(widget)\n",
    "    for param in params:\n",
    "        if not wb.checkInput(param, output, ms.NO_INPUT): \n",
    "            return utils.toggleLoading(widget)\n",
    "    \n",
    "    #launch any process you want\n",
    "    output_layout = run.mspa_analysis(\n",
    "        bin_map = bin_map, \n",
    "        params  = params,\n",
    "        output  = output\n",
    "    )\n",
    "    \n",
    "    #display the image \n",
    "    mp_results.children[0].children = [mspa_results.children[0].children[0]] + output_layout\n",
    "    \n",
    "    #toggle the loading button\n",
    "    utils.toggleLoading(widget)\n",
    "\n",
    "mp_btn.on_event('click', partial(\n",
    "    process_start, \n",
    "    output=mp_output,\n",
    "    mp_results=mp_results\n",
    "))"
   ]
  },
  {
   "cell_type": "code",
   "execution_count": null,
   "metadata": {},
   "outputs": [],
   "source": [
    "mp_widget"
   ]
  },
  {
   "cell_type": "code",
   "execution_count": null,
   "metadata": {},
   "outputs": [],
   "source": [
    "mp_results"
   ]
  },
  {
   "cell_type": "code",
   "execution_count": null,
   "metadata": {},
   "outputs": [],
   "source": []
  }
 ],
 "metadata": {
  "kernelspec": {
   "display_name": "Python 3",
   "language": "python",
   "name": "python3"
  },
  "language_info": {
   "codemirror_mode": {
    "name": "ipython",
    "version": 3
   },
   "file_extension": ".py",
   "mimetype": "text/x-python",
   "name": "python",
   "nbconvert_exporter": "python",
   "pygments_lexer": "ipython3",
   "version": "3.6.9"
  }
 },
 "nbformat": 4,
 "nbformat_minor": 4
}
