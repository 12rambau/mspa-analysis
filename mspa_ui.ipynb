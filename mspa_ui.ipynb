{
 "cells": [
  {
   "cell_type": "code",
   "execution_count": null,
   "metadata": {},
   "outputs": [],
   "source": [
    "from sepal_ui import sepalwidgets as sw\n",
    "\n",
    "import ipyvuetify as v\n",
    "from utils import messages as ms"
   ]
  },
  {
   "cell_type": "code",
   "execution_count": null,
   "metadata": {},
   "outputs": [],
   "source": [
    "#use a class to define your input and output in order to have mutable variables\n",
    "class Mspa_process_io:\n",
    "    def __init__(self):\n",
    "        #set up your inputs\n",
    "        self.foreground_connectivity = None\n",
    "        self.edge_width = None\n",
    "        self.transition_core = True\n",
    "        self.separate_feature = True\n",
    "        self.statistics = True\n",
    "        \n",
    "mp_io = Mspa_process_io()"
   ]
  },
  {
   "cell_type": "code",
   "execution_count": null,
   "metadata": {},
   "outputs": [],
   "source": [
    "#create an empty result tile that will be filled with displayable plot, map, links, text\n",
    "id_ = \"result_widget\"\n",
    "title = \"Results\"\n",
    "mp_results = sw.Tile(id_, title, inputs=[ms.MSPA_NO_RESULTS])"
   ]
  },
  {
   "cell_type": "code",
   "execution_count": null,
   "metadata": {},
   "outputs": [],
   "source": [
    "#create the output alert \n",
    "mp_output = sw.Alert().add_msg(ms.MSPA_MESSAGE)\n",
    "\n",
    "#create the button that start your process\n",
    "mp_btn = sw.Btn(ms.MSPA_BTN)\n",
    "\n",
    "#create the widgets following ipyvuetify requirements \n",
    "mp_connectivity = v.Select(items=[4,8], label='Foreground connectivity',  v_model=None)\n",
    "mp_edge = v.Slider(label= 'Edge width (px)', max=100, class_=\"mt-5\", thumb_label='always', v_model=0)\n",
    "mp_transition = v.Switch(label=\"Transition Core - Loop/Bridge\", v_model=True)\n",
    "mp_feature = v.Switch(label=\"Separate internal from external features\", v_model=True)\n",
    "mp_statistics = v.Switch(label=\"Compute statistics\", v_model=True)\n",
    "\n",
    "\n",
    "mp_inputs = [\n",
    "    mp_connectivity, \n",
    "    mp_edge, \n",
    "    mp_transition, \n",
    "    mp_feature, \n",
    "    mp_statistics\n",
    "]\n",
    "\n",
    "#bind the widget to the inputs\n",
    "mp_output.bind(mp_connectivity, mp_io, 'foreground_connectivity')\n",
    "mp_output.bind(mp_edge, mp_io, 'edge_width')\n",
    "mp_output.bind(mp_transition, mp_io, 'transition_core')\n",
    "mp_output.bind(mp_feature, mp_io, 'separate_feature')\n",
    "mp_output.bind(mp_statistics, mp_io, 'statistics')\n",
    "\n",
    "\n",
    "#create a process tile\n",
    "id_ = \"input_widget\"\n",
    "title = 'Create fragmentation map'\n",
    "\n",
    "mp_widget = sw.Tile(\n",
    "    id_, \n",
    "    title, \n",
    "    btn=mp_btn, \n",
    "    inputs=mp_inputs, \n",
    "    output=mp_output\n",
    ")"
   ]
  },
  {
   "cell_type": "code",
   "execution_count": null,
   "metadata": {},
   "outputs": [],
   "source": [
    "#bind the button to the process by writing a custom function\n",
    "from scripts import run\n",
    "from functools import partial\n",
    "\n",
    "def process_start(widget, event, data, output, mp_results):    \n",
    "    \n",
    "    #toggle the loading button\n",
    "    widget.toggle_loading()\n",
    "\n",
    "    ###################################\n",
    "    ###          load inputs        ###\n",
    "    ###################################\n",
    "\n",
    "    bin_map = getattr(bi_io, 'bin_map')    \n",
    "    params = [\n",
    "        str(getattr(mp_io, 'foreground_connectivity')),\n",
    "        str(getattr(mp_io,'edge_width')),\n",
    "        str(int(getattr(mp_io, 'transition_core'))),\n",
    "        str(int(getattr(mp_io, 'separate_feature'))),\n",
    "        str(int(getattr(mp_io, 'statistics'))),\n",
    "    ]\n",
    "            \n",
    "    #check inputs\n",
    "    if not output.check_input(bin_map, ms.NO_MAP): return widget.toggle_loading()\n",
    "    for param in params:\n",
    "        if not output.check_input(param, ms.NO_INPUT): \n",
    "            return widget.toggle_loading()\n",
    "    \n",
    "    #launch any process you want\n",
    "    try:\n",
    "        output_layout = run.mspa_analysis(\n",
    "            bin_map = bin_map, \n",
    "            params  = params,\n",
    "            output  = output\n",
    "        )\n",
    "    \n",
    "        #display the image \n",
    "        mp_results.children[0].children = [mp_results.children[0].children[0]] + output_layout\n",
    "    \n",
    "    except Exception as e: \n",
    "        output.add_live_msg(str(e), 'error')\n",
    "        \n",
    "    #toggle the loading button\n",
    "    widget.toggle_loading()\n",
    "\n",
    "mp_btn.on_event('click', partial(\n",
    "    process_start, \n",
    "    output=mp_output,\n",
    "    mp_results=mp_results\n",
    "))"
   ]
  },
  {
   "cell_type": "code",
   "execution_count": null,
   "metadata": {},
   "outputs": [],
   "source": [
    "mp_widget"
   ]
  },
  {
   "cell_type": "code",
   "execution_count": null,
   "metadata": {},
   "outputs": [],
   "source": [
    "mp_results"
   ]
  }
 ],
 "metadata": {
  "kernelspec": {
   "display_name": "Python 3",
   "language": "python",
   "name": "python3"
  },
  "language_info": {
   "codemirror_mode": {
    "name": "ipython",
    "version": 3
   },
   "file_extension": ".py",
   "mimetype": "text/x-python",
   "name": "python",
   "nbconvert_exporter": "python",
   "pygments_lexer": "ipython3",
   "version": "3.6.9"
  }
 },
 "nbformat": 4,
 "nbformat_minor": 4
}
