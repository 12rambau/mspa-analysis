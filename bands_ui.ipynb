{
 "cells": [
  {
   "cell_type": "code",
   "execution_count": null,
   "metadata": {},
   "outputs": [],
   "source": [
    "from sepal_ui import sepalwidgets as sw\n",
    "\n",
    "import ipyvuetify as v\n",
    "from utils import messages as ms"
   ]
  },
  {
   "cell_type": "code",
   "execution_count": null,
   "metadata": {},
   "outputs": [],
   "source": [
    "#input and output as mutable object \n",
    "class Bands_input_io:\n",
    "    def __init__(self):        \n",
    "        #output \n",
    "        self.forest_bands = None\n",
    "        self.non_forest_bands = None\n",
    "        self.bin_map = False\n",
    "\n",
    "bi_io = Bands_input_io()"
   ]
  },
  {
   "cell_type": "code",
   "execution_count": null,
   "metadata": {},
   "outputs": [],
   "source": [
    "#create the output \n",
    "bi_output = sw.Alert().add_msg(ms.BANDS_INTRO)\n",
    "\n",
    "#create the button \n",
    "bi_btn = sw.Btn(ms.BANDS_BTN)\n",
    "\n",
    "#create the inputs \n",
    "bi_select_f = v.Select(items=None, multiple=True, label='forest classes', v_model=None)\n",
    "bi_select_nf = v.Select(multiple=True, items=None, label='non-forest classes', v_model=None)\n",
    "\n",
    "#bind the widgets\n",
    "bi_output.bind(bi_select_f, bi_io, 'forest_bands')\n",
    "bi_output.bind(bi_select_nf, bi_io, 'non_forest_bands')\n",
    "\n",
    "#create a bands selector tile\n",
    "id_ = \"input_widget\"\n",
    "title = \"Select forest and non-forest classes\"\n",
    "\n",
    "bi_tile = sw.Tile(\n",
    "    id_,\n",
    "    title,\n",
    "    btn=bi_btn,\n",
    "    inputs=[bi_select_f,bi_select_nf],\n",
    "    output=bi_output\n",
    ")"
   ]
  },
  {
   "cell_type": "code",
   "execution_count": null,
   "metadata": {},
   "outputs": [],
   "source": [
    "#function to reset the bands \n",
    "def reset_bands(values, f = bi_select_f, nf = bi_select_nf):\n",
    "    \n",
    "    #reset the output\n",
    "    setattr(bi_io, 'forest_bands', None)\n",
    "    setattr(bi_io, 'forest', None)\n",
    "    \n",
    "    #reset the select \n",
    "    f.v_model = None\n",
    "    nf.v_model = None\n",
    "    \n",
    "    #add the new values \n",
    "    f.items = values\n",
    "    nf.items = values\n",
    "    \n",
    "    return"
   ]
  },
  {
   "cell_type": "code",
   "execution_count": null,
   "metadata": {},
   "outputs": [],
   "source": [
    "#validate the band selection \n",
    "from scripts import run\n",
    "from functools import partial\n",
    "\n",
    "def process_start(widget, event, data, output):\n",
    "    \n",
    "    #toggle the loading button \n",
    "    widget.toggle_loading()\n",
    "    \n",
    "    #load inputs \n",
    "    file = getattr(fi_io, 'file')\n",
    "    values = getattr(fi_io, 'values')\n",
    "    forest = getattr(bi_io, 'forest_bands')\n",
    "    nforest = getattr(bi_io, 'non_forest_bands')\n",
    "    \n",
    "    #check input\n",
    "    if not output.check_input(file, ms.NO_FILE): return widget.toggle_loading()\n",
    "    if not output.check_input(forest, ms.NO_BANDS): return widget.toggle_loading()\n",
    "    if not output.check_input(nforest, ms.NO_BANDS): return widget.toggle_loading()\n",
    "    \n",
    "    #check if overwrite \n",
    "    for val in forest:\n",
    "        if val in nforest:\n",
    "            output.add_msg(ms.BANDS_OVERRIDE, 'error')\n",
    "            widget.toggle_loading()\n",
    "            return \n",
    "        \n",
    "    #create the bin map \n",
    "    try:\n",
    "        bin_map = run.set_bin_map(\n",
    "            raster  = file,\n",
    "            values  = values,\n",
    "            forest  = forest,\n",
    "            nforest = nforest,\n",
    "            output  = output\n",
    "        )    \n",
    "    \n",
    "        #set the output \n",
    "        setattr(bi_io, 'bin_map', bin_map)\n",
    "        \n",
    "    except Exception as e: \n",
    "        output.add_live_msg(str(e), 'error')\n",
    "        \n",
    "    #toggle the loading button \n",
    "    widget.toggle_loading()\n",
    "    \n",
    "    return \n",
    "\n",
    "bi_btn.on_event('click', partial(\n",
    "    process_start,\n",
    "    output= bi_output\n",
    "))\n",
    "    "
   ]
  },
  {
   "cell_type": "code",
   "execution_count": null,
   "metadata": {},
   "outputs": [],
   "source": [
    "bi_tile"
   ]
  }
 ],
 "metadata": {
  "kernelspec": {
   "display_name": "Python 3",
   "language": "python",
   "name": "python3"
  },
  "language_info": {
   "codemirror_mode": {
    "name": "ipython",
    "version": 3
   },
   "file_extension": ".py",
   "mimetype": "text/x-python",
   "name": "python",
   "nbconvert_exporter": "python",
   "pygments_lexer": "ipython3",
   "version": "3.6.9"
  }
 },
 "nbformat": 4,
 "nbformat_minor": 4
}
